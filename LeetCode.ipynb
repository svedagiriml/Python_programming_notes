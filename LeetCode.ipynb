{
 "cells": [
  {
   "cell_type": "code",
   "execution_count": 43,
   "metadata": {},
   "outputs": [
    {
     "name": "stdout",
     "output_type": "stream",
     "text": [
      "flower\n",
      "fa\n"
     ]
    },
    {
     "data": {
      "text/plain": [
       "'f'"
      ]
     },
     "execution_count": 43,
     "metadata": {},
     "output_type": "execute_result"
    }
   ],
   "source": [
    "strs1 = [\"flower\",\"fa\",\"fght\"]\n",
    "def longestCommonPrefix(strs):\n",
    "    if len(strs) == 0:\n",
    "            return \"\"\n",
    "    else:\n",
    "        s1, s2 = max(strs), min(strs)\n",
    "        print(s1)\n",
    "        print(s2)\n",
    "        i, match = 0, 0\n",
    "        while i < len(s1) and i < len(s2) and s1[i] == s2[i]:\n",
    "            i, match = i+1, match + 1\n",
    "        return s1[0:match]\n",
    "          \n",
    "            \n",
    "longestCommonPrefix(strs1)"
   ]
  },
  {
   "cell_type": "code",
   "execution_count": 73,
   "metadata": {},
   "outputs": [
    {
     "data": {
      "text/plain": [
       "2"
      ]
     },
     "execution_count": 73,
     "metadata": {},
     "output_type": "execute_result"
    }
   ],
   "source": [
    "nums = [1,3,5,6]\n",
    "target = 3.5\n",
    "y=len(nums)\n",
    "def searchInsert(nums, target):\n",
    "    for i in range(len(nums)):\n",
    "        if target == nums[i]:\n",
    "            return i\n",
    "        elif (target > nums[i]) and (y == i+1 or (target < nums[i+1])):\n",
    "            return i+1\n",
    "        \n",
    "                                          \n",
    "\n",
    "searchInsert(nums,target)"
   ]
  },
  {
   "cell_type": "code",
   "execution_count": 25,
   "metadata": {},
   "outputs": [
    {
     "data": {
      "text/plain": [
       "False"
      ]
     },
     "execution_count": 25,
     "metadata": {},
     "output_type": "execute_result"
    }
   ],
   "source": [
    "s = \"({[[])})\"\n",
    "\n",
    "def isValid(s):\n",
    "    dict = {')':'(', ']':'[','}':'{'}\n",
    "    st = [char for char in s]\n",
    "    for sym in st:\n",
    "        if sym != dict[st.pop(-1)]:\n",
    "            return False\n",
    "        \n",
    "    return True\n",
    "    \n",
    "isValid(s)"
   ]
  },
  {
   "cell_type": "code",
   "execution_count": 56,
   "metadata": {},
   "outputs": [
    {
     "data": {
      "text/plain": [
       "(1, 2)"
      ]
     },
     "execution_count": 56,
     "metadata": {},
     "output_type": "execute_result"
    }
   ],
   "source": [
    "nums = [2,7,11,15]\n",
    "target = 18\n",
    "#Output: [0,1]\n",
    "#Output: Because nums[0] + nums[1] == 9, we return [0, 1].\n",
    "def twonum(nums,target):\n",
    "    \n",
    "    for i in range(len(nums)-1):\n",
    "        for j in range(1,len(nums)):\n",
    "            if nums[i]+nums[j] == target:\n",
    "                return i,j\n",
    "                break\n",
    "                   \n",
    "twonum(nums,target)"
   ]
  },
  {
   "cell_type": "code",
   "execution_count": 97,
   "metadata": {},
   "outputs": [
    {
     "name": "stdout",
     "output_type": "stream",
     "text": [
      "['ada', 'aa', 'abbba', 'bbb', 'bb']\n"
     ]
    },
    {
     "data": {
      "text/plain": [
       "'abbba'"
      ]
     },
     "execution_count": 97,
     "metadata": {},
     "output_type": "execute_result"
    }
   ],
   "source": [
    "#Given a string s, return the longest palindromic substring in s.\n",
    "#Input: s = \"babad\"\n",
    "#Output: \"bab\"\n",
    "#Note: \"aba\" is also a valid answer.\n",
    "s=\"badaabbba\"\n",
    "def longestPalindrome(s):\n",
    "    l=[]\n",
    "    j=0\n",
    "    for j in range(len(s)):\n",
    "        for i in range(len(s), j+1 , -1):\n",
    "            s1 = s[j:i]\n",
    "            if s1 == s1[::-1]:\n",
    "                l.append(s1)\n",
    "                break\n",
    "            i -= 1\n",
    "    print(l)\n",
    "    \n",
    "    return max(l, key=len)  \n",
    "longestPalindrome(s)\n",
    "            "
   ]
  },
  {
   "cell_type": "code",
   "execution_count": null,
   "metadata": {},
   "outputs": [],
   "source": []
  },
  {
   "cell_type": "code",
   "execution_count": null,
   "metadata": {},
   "outputs": [],
   "source": []
  }
 ],
 "metadata": {
  "kernelspec": {
   "display_name": "Python 3",
   "language": "python",
   "name": "python3"
  },
  "language_info": {
   "codemirror_mode": {
    "name": "ipython",
    "version": 3
   },
   "file_extension": ".py",
   "mimetype": "text/x-python",
   "name": "python",
   "nbconvert_exporter": "python",
   "pygments_lexer": "ipython3",
   "version": "3.7.4"
  }
 },
 "nbformat": 4,
 "nbformat_minor": 2
}

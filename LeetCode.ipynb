{
 "cells": [
  {
   "cell_type": "code",
   "execution_count": 2,
   "metadata": {},
   "outputs": [
    {
     "name": "stdout",
     "output_type": "stream",
     "text": [
      "flower\n",
      "aght\n"
     ]
    },
    {
     "data": {
      "text/plain": [
       "''"
      ]
     },
     "execution_count": 2,
     "metadata": {},
     "output_type": "execute_result"
    }
   ],
   "source": [
    "strs1 = [\"flower\",\"fa\",\"aght\"]\n",
    "def longestCommonPrefix(strs):\n",
    "    if len(strs) == 0:\n",
    "            return \"\"\n",
    "    else:\n",
    "        s1, s2 = max(strs), min(strs)\n",
    "        print(s1)\n",
    "        print(s2)\n",
    "        i, match = 0, 0\n",
    "        while i < len(s1) and i < len(s2) and s1[i] == s2[i]:\n",
    "            i, match = i+1, match + 1\n",
    "        return s1[0:match]\n",
    "          \n",
    "            \n",
    "longestCommonPrefix(strs1)"
   ]
  },
  {
   "cell_type": "code",
   "execution_count": 73,
   "metadata": {},
   "outputs": [
    {
     "data": {
      "text/plain": [
       "2"
      ]
     },
     "execution_count": 73,
     "metadata": {},
     "output_type": "execute_result"
    }
   ],
   "source": [
    "nums = [1,3,5,6]\n",
    "target = 3.5\n",
    "y=len(nums)\n",
    "def searchInsert(nums, target):\n",
    "    for i in range(len(nums)):\n",
    "        if target == nums[i]:\n",
    "            return i\n",
    "        elif (target > nums[i]) and (y == i+1 or (target < nums[i+1])):\n",
    "            return i+1\n",
    "        \n",
    "                                          \n",
    "\n",
    "searchInsert(nums,target)"
   ]
  },
  {
   "cell_type": "code",
   "execution_count": 25,
   "metadata": {},
   "outputs": [
    {
     "data": {
      "text/plain": [
       "False"
      ]
     },
     "execution_count": 25,
     "metadata": {},
     "output_type": "execute_result"
    }
   ],
   "source": [
    "s = \"({[[])})\"\n",
    "\n",
    "def isValid(s):\n",
    "    dict = {')':'(', ']':'[','}':'{'}\n",
    "    st = [char for char in s]\n",
    "    for sym in st:\n",
    "        if sym != dict[st.pop(-1)]:\n",
    "            return False\n",
    "        \n",
    "    return True\n",
    "    \n",
    "isValid(s)"
   ]
  },
  {
   "cell_type": "code",
   "execution_count": 56,
   "metadata": {},
   "outputs": [
    {
     "data": {
      "text/plain": [
       "(1, 2)"
      ]
     },
     "execution_count": 56,
     "metadata": {},
     "output_type": "execute_result"
    }
   ],
   "source": [
    "nums = [2,7,11,15]\n",
    "target = 18\n",
    "#Output: [0,1]\n",
    "#Output: Because nums[0] + nums[1] == 9, we return [0, 1].\n",
    "def twonum(nums,target):\n",
    "    \n",
    "    for i in range(len(nums)-1):\n",
    "        for j in range(1,len(nums)):\n",
    "            if nums[i]+nums[j] == target:\n",
    "                return i,j\n",
    "                break\n",
    "                   \n",
    "twonum(nums,target)"
   ]
  },
  {
   "cell_type": "code",
   "execution_count": 1,
   "metadata": {},
   "outputs": [
    {
     "name": "stdout",
     "output_type": "stream",
     "text": [
      "['ada', 'aa', 'abbba', 'bbb', 'bb']\n"
     ]
    },
    {
     "data": {
      "text/plain": [
       "'abbba'"
      ]
     },
     "execution_count": 1,
     "metadata": {},
     "output_type": "execute_result"
    }
   ],
   "source": [
    "#Given a string s, return the longest palindromic substring in s.\n",
    "#Input: s = \"babad\"\n",
    "#Output: \"bab\"\n",
    "#Note: \"aba\" is also a valid answer.\n",
    "s=\"badaabbba\"\n",
    "def longestPalindrome(s):\n",
    "    l=[]\n",
    "    i=0\n",
    "    for i in range(len(s)):\n",
    "        for j in range(len(s), i+1 , -1):\n",
    "            s1 = s[i:j]\n",
    "            if s1 == s1[::-1]:\n",
    "                l.append(s1)\n",
    "                break\n",
    "            j -= 1\n",
    "    print(l)\n",
    "    \n",
    "    return max(l, key=len)  \n",
    "longestPalindrome(s)\n",
    "            "
   ]
  },
  {
   "cell_type": "code",
   "execution_count": 50,
   "metadata": {},
   "outputs": [
    {
     "name": "stdout",
     "output_type": "stream",
     "text": [
      "amanaplanacanalpanama\n"
     ]
    },
    {
     "data": {
      "text/plain": [
       "True"
      ]
     },
     "execution_count": 50,
     "metadata": {},
     "output_type": "execute_result"
    }
   ],
   "source": [
    "#ValidPalindrome\n",
    "#Input: s = \"A man, a plan, a canal: Panama\"\n",
    "#Output: true\n",
    "#Explanation: \"amanaplanacanalpanama\" is a palindrome.\n",
    "s = \"A man, a plan, a canal: Panama\"\n",
    "def palindrome(s):\n",
    "    str = \"\".join([letter.lower() for letter in s if letter.isalpha()])\n",
    "    print(str)\n",
    "    return str == str[::-1]\n",
    "palindrome(s)"
   ]
  },
  {
   "cell_type": "code",
   "execution_count": 6,
   "metadata": {},
   "outputs": [
    {
     "name": "stdout",
     "output_type": "stream",
     "text": [
      "flp\n",
      "flight\n"
     ]
    },
    {
     "data": {
      "text/plain": [
       "'fl'"
      ]
     },
     "execution_count": 6,
     "metadata": {},
     "output_type": "execute_result"
    }
   ],
   "source": [
    "strs1 = [\"flower\",\"flp\",\"flight\"]\n",
    "def longestCommonPrefix(strs):\n",
    "    if len(strs) == 0:\n",
    "            return \"\"\n",
    "    else:\n",
    "        s1, s2 = max(strs), min(strs)\n",
    "        print(s1)\n",
    "        print(s2)\n",
    "        i=0\n",
    "        l=[]\n",
    "        for i  in range(len(s1)):\n",
    "            if s1[i]==s2[i]:\n",
    "                l.append(s1[i])\n",
    "            else:\n",
    "                break\n",
    "           \n",
    "        return(\"\".join(l))\n",
    "        #i, match = 0, 0\n",
    "        #while i < len(s1) and i < len(s2) and s1[i] == s2[i]:\n",
    "            #i, match = i+1, match + 1\n",
    "        #return s1[0:match]\n",
    "          \n",
    "            \n",
    "longestCommonPrefix(strs1)"
   ]
  },
  {
   "cell_type": "code",
   "execution_count": 26,
   "metadata": {},
   "outputs": [
    {
     "data": {
      "text/plain": [
       "[[1], [1, 1], [1, 2, 1], [1, 3, 3, 1], [1, 4, 6, 4, 1]]"
      ]
     },
     "execution_count": 26,
     "metadata": {},
     "output_type": "execute_result"
    }
   ],
   "source": [
    "#Input: numRows = 5\n",
    "#Output: [[1],[1,1],[1,2,1],[1,3,3,1],[1,4,6,4,1]]\n",
    "numRows=5\n",
    "def generate(numRows):\n",
    "    for i in range(numRows):\n",
    "        if i==0:\n",
    "            op = [[1]]\n",
    "        elif i==1:\n",
    "            op = [[1],[1,1]]\n",
    "        else:\n",
    "            l=[]\n",
    "            l.append(1)\n",
    "            for j in range(i,1,-1):\n",
    "                l.append(op[i-1][i-j]+op[i-1][i-j+1])\n",
    "            \n",
    "            l.append(1)            \n",
    "            op.append(l)\n",
    "    return op\n",
    "generate(numRows)"
   ]
  },
  {
   "cell_type": "code",
   "execution_count": 73,
   "metadata": {},
   "outputs": [
    {
     "name": "stdout",
     "output_type": "stream",
     "text": [
      "[2, 2, 4, 7, 4, 5, 7, 6, 5]\n",
      "9\n",
      "[2, 2, 4, 7, 4, 5, 7, 6, 5]\n",
      "1\n",
      "2\n",
      "2\n",
      "[4, 7, 4, 5, 7, 6, 5]\n",
      "7\n",
      "7\n",
      "[4, 7, 4, 5, 7, 6, 5]\n",
      "1\n",
      "4\n",
      "7\n",
      "2\n",
      "4\n",
      "4\n",
      "[7, 5, 7, 6, 5]\n",
      "5\n",
      "5\n",
      "[7, 5, 7, 6, 5]\n",
      "1\n",
      "7\n",
      "5\n",
      "2\n",
      "7\n",
      "7\n",
      "[5, 6, 5]\n",
      "3\n",
      "3\n",
      "[5, 6, 5]\n",
      "1\n",
      "5\n",
      "6\n",
      "2\n",
      "5\n",
      "5\n",
      "[6]\n",
      "1\n"
     ]
    },
    {
     "data": {
      "text/plain": [
       "[6]"
      ]
     },
     "execution_count": 73,
     "metadata": {},
     "output_type": "execute_result"
    }
   ],
   "source": [
    "#Given a non-empty array of integers nums, every element appears twice except for one. Find that single one.\n",
    "#Input: nums = [4,1,2,1,2]\n",
    "#Output: 4\n",
    "nums = [2,2,4,7,4,5,7,6,5]\n",
    "def singleNumber(nums):\n",
    "    length1=len(nums)\n",
    "    length2=len(set(nums))\n",
    "    print(nums)\n",
    "    i=0\n",
    "    for i in range(length1-length2):\n",
    "        print(length1)\n",
    "        print(nums)\n",
    "        n=0 \n",
    "        j=1\n",
    "        for j in range(1,length1):\n",
    "            \n",
    "            print(j)\n",
    "            print(nums[n])\n",
    "            print(nums[j])\n",
    "            if nums[n]==nums[j]:\n",
    "                nums.remove(nums[n])\n",
    "                nums.remove(nums[j-1])\n",
    "                length1=len(nums)\n",
    "                print(nums)\n",
    "                print(length1)\n",
    "                if length1==1:\n",
    "                    return nums\n",
    "                break\n",
    "        continue  \n",
    "       \n",
    "singleNumber(nums) "
   ]
  },
  {
   "cell_type": "code",
   "execution_count": null,
   "metadata": {},
   "outputs": [],
   "source": []
  }
 ],
 "metadata": {
  "kernelspec": {
   "display_name": "Python 3",
   "language": "python",
   "name": "python3"
  },
  "language_info": {
   "codemirror_mode": {
    "name": "ipython",
    "version": 3
   },
   "file_extension": ".py",
   "mimetype": "text/x-python",
   "name": "python",
   "nbconvert_exporter": "python",
   "pygments_lexer": "ipython3",
   "version": "3.7.4"
  }
 },
 "nbformat": 4,
 "nbformat_minor": 2
}
